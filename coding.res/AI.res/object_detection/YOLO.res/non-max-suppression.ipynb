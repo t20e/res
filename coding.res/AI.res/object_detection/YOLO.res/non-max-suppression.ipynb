{
 "cells": [
  {
   "cell_type": "markdown",
   "metadata": {},
   "source": [
    "### Non-max Suppression\n",
    "\n",
    "* NMS\n",
    "Applied to remove redundant bounding boxes after predictions are made.\n",
    "\n",
    "Before: all predicted bounding boxes:\n",
    "<img src=\"./ref_imgs/nms-before.png\" alt=\"Description\" width=\"100\">\n",
    " \n",
    "After: nms to remove redundant bboxes\n",
    "<img src=\"./ref_imgs/nms-after.png\" alt=\"Description\" width=\"100\">\n",
    "\n",
    "\n",
    "<b>What NMS is doing.</b>\n",
    "\n",
    "0. Before we do NMS, we have a basic min_threshold this is not the IOU_threshold, this threshold is just to remove bboxes with a low confidence score. then do the following.  \n",
    "\n",
    "1. Example: we get 3 bboxes.  \n",
    "<img src=\"./ref_imgs/during-nms.png\" alt=\"Description\" width=\"200\">\n",
    "    1. each of them have a probability score associated with that box 0.3, 0.9, 0.6, the probability is bewteen 0-1 and it indicts how likely that there is an object in that bounding box.\n",
    "\n",
    "2. We grab the highest bbox which in this case is the one with a 0.9 probability.  \n",
    "<img src=\"./ref_imgs/nms-01.png\" alt=\"Description\" width=\"200\">\n",
    "\n",
    "3. Then we compare it with the other boxes that have a lower probability, and we calculate the IOU between them.\n",
    "<img src=\"./ref_imgs/nms-02.png\" alt=\"Description\" width=\"200\">\n",
    "    1. Example IOU = between 0.9 vs 0.6 bboxes = 0.51\n",
    "    2. if the result is higher than an IOU_threshold, like 0.5 then we remove the 0.6 bbox. \n",
    "\n",
    "4. then we compare the 0.9 and 0.3 bboxes, example IOU result = 0.6, which is higher than out IOU_threshold, so we remove the 0.3 bbox\n",
    "\n",
    "5. If we have multiple class predictions in the image, example: a car and a horse, then we need to do NMS for each different class separately.\n",
    "\n"
   ]
  },
  {
   "cell_type": "code",
   "execution_count": null,
   "metadata": {},
   "outputs": [],
   "source": [
    "# TODO add a link to implement NMS"
   ]
  },
  {
   "cell_type": "code",
   "execution_count": null,
   "metadata": {},
   "outputs": [],
   "source": []
  },
  {
   "cell_type": "code",
   "execution_count": null,
   "metadata": {},
   "outputs": [],
   "source": []
  }
 ],
 "metadata": {
  "kernelspec": {
   "display_name": "torch_env",
   "language": "python",
   "name": "python3"
  },
  "language_info": {
   "codemirror_mode": {
    "name": "ipython",
    "version": 3
   },
   "file_extension": ".py",
   "mimetype": "text/x-python",
   "name": "python",
   "nbconvert_exporter": "python",
   "pygments_lexer": "ipython3",
   "version": "3.11.11"
  }
 },
 "nbformat": 4,
 "nbformat_minor": 2
}
