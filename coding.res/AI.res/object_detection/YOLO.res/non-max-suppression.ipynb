{
 "cells": [
  {
   "cell_type": "code",
   "execution_count": 1,
   "metadata": {},
   "outputs": [],
   "source": [
    "import torch\n",
    "from utils.IOU import intersection_over_union"
   ]
  },
  {
   "cell_type": "code",
   "execution_count": 2,
   "metadata": {},
   "outputs": [],
   "source": [
    "def non_max_suppression(\n",
    "    bboxes, \n",
    "    IOU_threshold,\n",
    "    prob_threshold,\n",
    "    box_format=\"corners\"):\n",
    "    \"\"\" \n",
    "        performs NMS\n",
    "    \n",
    "    Parameters:\n",
    "        bboxes (python:list) : predicted bounding boxes [ [1, 0.9, x1, y1, x2, y2], [etc..], [etc..], etc..]\n",
    "            the 1 represents the class id, example: 1 means its a car\n",
    "            0.9 represents the probability\n",
    "        \n",
    "        IOU_threshold (float) : the iou threshold when comparing bounding boxes for NMS\n",
    "        \n",
    "        prob_threshold (float) : the threshold to remove bounding boxes with a low confidence score\n",
    "    \"\"\"\n",
    "    \n",
    "    assert type(bboxes) == list\n",
    "    \n",
    "    # remove bounding boxes with a low confidence score\n",
    "    bboxes = [box for box in bboxes if box[1] > prob_threshold]\n",
    "    \n",
    "    # sort the bboxes with the highesst probability at the beginning\n",
    "    bboxes = sorted(bboxes, key=lambda x: x[1], reverse=True)\n",
    "    \n",
    "    bboxes_after_nms = []\n",
    "    \n",
    "    while bboxes:\n",
    "        # grab a box from queue\n",
    "        chosen_box = bboxes.pop(0)\n",
    "\n",
    "        bboxes = [\n",
    "            box for box in bboxes\n",
    "                if box[0] != chosen_box[0] # check to see if the classes are the same if the bbox classes are different than we dont want to compare them IOU is only done when comparing bboxes for the same class, example : a car and a horse bbox\n",
    "                or intersection_over_union(\n",
    "                    torch.tensor(chosen_box[2:]), # just pass the coordinates from chosen box (x1, y1, x2, y2)\n",
    "                    torch.tensor(box[2:]),\n",
    "                    box_format=box_format\n",
    "                )\n",
    "                < IOU_threshold # if the IOU is less than the threshold then we will keep that box\n",
    "        ]\n",
    "        \n",
    "        bboxes_after_nms.append(chosen_box)\n",
    "        \n",
    "    return bboxes_after_nms\n",
    "        "
   ]
  },
  {
   "cell_type": "code",
   "execution_count": null,
   "metadata": {},
   "outputs": [],
   "source": []
  }
 ],
 "metadata": {
  "kernelspec": {
   "display_name": "torch_env",
   "language": "python",
   "name": "python3"
  },
  "language_info": {
   "codemirror_mode": {
    "name": "ipython",
    "version": 3
   },
   "file_extension": ".py",
   "mimetype": "text/x-python",
   "name": "python",
   "nbconvert_exporter": "python",
   "pygments_lexer": "ipython3",
   "version": "3.11.11"
  }
 },
 "nbformat": 4,
 "nbformat_minor": 2
}
