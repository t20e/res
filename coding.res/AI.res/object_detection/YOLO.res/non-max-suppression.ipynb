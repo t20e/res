{
 "cells": [
  {
   "cell_type": "markdown",
   "metadata": {},
   "source": [
    "### Non-max Suppression\n",
    "\n",
    "* NMS\n",
    "Applied to remove redundant bounding boxes after predictions are made.\n",
    "\n",
    "Before all predicted bounding boxes:\n",
    "<img src=\"./ref_imgs/nms-before.png\" alt=\"Description\" width=\"100\">\n",
    "\n",
    "After nms to remove redundant bboxes\n",
    "<img src=\"./ref_imgs/nms-after.png\" alt=\"Description\" width=\"100\">\n",
    "\n",
    "\n",
    "<b>What NMS is doing.</b>\n",
    "\n",
    "0. Before we do NMS, we have a basic threshold this is not the IOU_threshold, this threshold is just to remove bboxes with a low confidence score. then do the following\n",
    "\n",
    "1. Example: we get 3 bboxes \n",
    "<img src=\"./ref_imgs/during-nms.png\" alt=\"Description\" width=\"200\">\n",
    "    1. each of them have a probability score associated with that box 0.3, 0.9, 0.6, the probability is bewteen 0-1 and it indicts how likely that there is an object in that bbox.\n",
    "\n",
    "2. We grab the highest bbox which in this case is the one with a 0.9 probability\n",
    "<img src=\"./ref_imgs/nms-01.png\" alt=\"Description\" width=\"200\">\n",
    "\n",
    "3. Then we compare it with the other boxes that have a lower probability, and we calculate the IOU between them, example IOU = between 0.9 vs 0.6 bboxes = 0.51\n",
    "<img src=\"./ref_imgs/nms-02.png\" alt=\"Description\" width=\"200\">\n",
    "    1. if the result is higher than an IOU_threshold, like 0.5 then we remove the 0.6 bbox. \n",
    "\n",
    "4. then we compare the 0.9 and 0.3 bboxes, example IOU result = 0.6, which is higher than out IOU_threshold, so we remove the 0.3 bbox\n",
    "\n",
    "5. If we have multiple class predictions in the image, example: a car and a horse, then we need to do NMS for each different class separately.\n",
    "\n"
   ]
  },
  {
   "cell_type": "code",
   "execution_count": 1,
   "metadata": {},
   "outputs": [],
   "source": [
    "import torch\n",
    "from utils.IOU import intersection_over_union"
   ]
  },
  {
   "cell_type": "code",
   "execution_count": null,
   "metadata": {},
   "outputs": [],
   "source": [
    "def non_max_suppression(\n",
    "    bboxes, \n",
    "    IOU_threshold,\n",
    "    prob_threshold,\n",
    "    box_format=\"corners\"):\n",
    "    \"\"\" \n",
    "    Performs NMS\n",
    "    \n",
    "    Note:\n",
    "        Non-Maximum Suppression (NMS) is a vital post-processing step in many computer vision tasks, particularly in object detection. It is used to refine the output of object detection models by eliminating redundant bounding boxes and ensuring that each object is detected only once.\n",
    "    \n",
    "    Parameters:\n",
    "        bboxes (python:list) : predicted bounding boxes [ [1, 0.9, x1, y1, x2, y2], [etc..], [etc..], etc..]\n",
    "            the 1 represents the class id, also is the index of which object it is from the dataset object list, example: 1 means its a car\n",
    "            0.9 represents the probability\n",
    "        \n",
    "        IOU_threshold (float) : the iou threshold when comparing bounding boxes for NMS\n",
    "        \n",
    "        prob_threshold (float) : the threshold to remove bounding boxes with a low confidence score\n",
    "    \"\"\"\n",
    "    \n",
    "    assert type(bboxes) == list\n",
    "    \n",
    "    # remove bounding boxes with a low confidence score\n",
    "    bboxes = [box for box in bboxes if box[1] > prob_threshold]\n",
    "    \n",
    "    # sort the bboxes with the highest probability at the beginning\n",
    "    bboxes = sorted(bboxes, key=lambda x: x[1], reverse=True)\n",
    "    \n",
    "    bboxes_after_nms = []\n",
    "    \n",
    "    while bboxes:\n",
    "        # grab a box from queue\n",
    "        chosen_box = bboxes.pop(0)\n",
    "\n",
    "        bboxes = [\n",
    "            box for box in bboxes\n",
    "                if box[0] != chosen_box[0] # check to see if the classes are the same if the bbox classes are different than we dont want to compare them IOU is only done when comparing bboxes for the same class, example : a car and a horse bbox\n",
    "                or intersection_over_union(\n",
    "                    torch.tensor(chosen_box[2:]), # just pass the coordinates from chosen box (x1, y1, x2, y2)\n",
    "                    torch.tensor(box[2:]),\n",
    "                    box_format=box_format\n",
    "                )\n",
    "                < IOU_threshold # if the IOU is less than the threshold then we will keep that box\n",
    "        ]\n",
    "        \n",
    "        bboxes_after_nms.append(chosen_box)\n",
    "        \n",
    "    return bboxes_after_nms\n",
    "        "
   ]
  },
  {
   "cell_type": "code",
   "execution_count": null,
   "metadata": {},
   "outputs": [],
   "source": []
  }
 ],
 "metadata": {
  "kernelspec": {
   "display_name": "torch_env",
   "language": "python",
   "name": "python3"
  },
  "language_info": {
   "codemirror_mode": {
    "name": "ipython",
    "version": 3
   },
   "file_extension": ".py",
   "mimetype": "text/x-python",
   "name": "python",
   "nbconvert_exporter": "python",
   "pygments_lexer": "ipython3",
   "version": "3.11.11"
  }
 },
 "nbformat": 4,
 "nbformat_minor": 2
}
