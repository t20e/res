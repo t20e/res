{
 "cells": [
  {
   "cell_type": "markdown",
   "id": "3f23c8e9",
   "metadata": {},
   "source": [
    "# YOLO Loss Function\n",
    "\n",
    "<img src=\"./ref_imgs/loss_formulas.png\" alt=\"Loss formulas\" width=\"500\">\n",
    "\n",
    "[Vectorized Code Implementation](https://github.com/t20e/AI_public_projects/blob/main/object_detection/yolo_v1_taco/yolov1/loss.py)\n"
   ]
  },
  {
   "cell_type": "markdown",
   "id": "54ea73c1",
   "metadata": {},
   "source": [
    "*Steps correlated to the numbers on the img above.*\n",
    "\n",
    "\n",
    "1.  <strong style=\"color: Magenta;\">Localization Loss:</strong> Pinpointing the object. First two lines.\n",
    "    $$ \\lambda_{\\text{coord}} \\sum_{i=0}^{S^2} \\sum_{j=0}^{B}  \\text{𝟙}_{i j}^{\\text{obj}} [ (x_i - \\hat{x}_i)^2 + (y_i - \\hat{y}_i)^2 ] $$\n",
    "    \n",
    "    - These functions *penalizes* the model for inaccuracies in predicting the bounding boxes's position and size.\n",
    "    - *Center Coordinates (x, y):* The term $\\color{Magenta}(x_i - \\hat{x}_i)^2 + (y_i - \\hat{y}_i)^2$\n",
    "        - Calculates the squared root error between the predicted center coordinates $\\color{magenta}x_i, y_i$ of a bounding box and the ground truth coordinates $\\color{Magenta}\\hat{x}_i, \\hat{y}_i$\n",
    "\n",
    "    $$ + \\lambda_{\\text{coord}} \\sum_{i=0}^{S^2} \\sum_{j=0}^{B}  \\text{𝟙}_{i j}^{\\text{obj}} [ (\\sqrt{w_i} - \\sqrt{\\hat{w}_i})^2 + (\\sqrt{h_i} - \\sqrt{\\hat{h}_i})^2] $$\n",
    "    \n",
    "    - *Width and Height (w,h):* The term $\\color{Magenta}(\\sqrt{w_i} - \\sqrt{\\hat{w}_i})^2 + (\\sqrt{h_i} - \\sqrt{\\hat{h}_i})^2$\n",
    "        - Measures the error in the predicted width and height of the bounding box. .\n",
    "        - By taking the square root, the model becomes more sensitive to small errors in small bounding boxes, which is essential for detecting smaller objects accurately.\n",
    "\n",
    "    - *The indicator Function ($\\color{Magenta}\\text{𝟙}_{i j}^{\\text{obj}}$):* This is a conditional switch. It equals 1 only if the *j-th* bounding box predictor in grid cell *i* is \"responsible\" for detecting an object.\n",
    "        -  The predictor with the highest Intersection over Union (IoU) with the ground truth bounding box is deemed responsible. This ensures that only one predictor per object is penalized for localization errors.\n",
    "\n",
    "    - *The Weighting Parameter ($\\color{Magenta}\\lambda_{\\text{coord}}$):* This hyperparameter gives more weight to the localization loss. \n",
    "        - The paper set $\\color{Magenta}\\lambda_{\\text{coord}}$ = 5.\n",
    "\n",
    "\n",
    "2. <strong style=\"color: Teal;\">Confidence Loss:</strong> Is there an object, and how well does the box fit? The third and fourth lines.\n",
    "\n",
    "    $$ + \\sum_{i=0}^{S^2} \\sum_{j=0}^{B}  \\text{𝟙}_{i j}^{\\text{obj}}  (C_i - \\hat{C}_i)^2  $$\n",
    "    $$ + \\lambda_{\\text{noobj}} \\sum_{i=0}^{S^2} \\sum_{j=0}^{B}  \\text{𝟙}_{i j}^{\\text{obj}}  (C_i - \\hat{C}_i)^2  $$\n",
    "    - The confidence score has a dual meaning: it reflects the presence of an object in the bounding box and the accuracy of the bounding box's shape (as measured by IoU).\n",
    "\n",
    "    - *Confidence score ($\\color{Teal}\\text{C}$):* The confidence score is defined as $P(Object) * IoU(pred, truth)$.\n",
    "        - If no object is present in a cell, $P(Object)$ = 0, and the confidence score should be 0.\n",
    "        - If an object is present, $P(Object)$ = 1, and the confidence score should ideally be equal to the IoU between the predicted box and the ground truth box.\n",
    "\n",
    "    - *The confidence loss is calculated differently for cells that contain an object versus those that do not.*\n",
    "\n",
    "    $$ + \\sum_{i=0}^{S^2} \\sum_{j=0}^{B}  \\text{𝟙}_{i j}^{\\text{obj}}  (C_i - \\hat{C}_i)^2  $$\n",
    "\n",
    "    - *For cells with an object ($\\color{Teal}\\text{𝟙}_{i j}^{\\text{obj}}$):* The term $\\color{Teal}(C_i - \\hat{C}_i)^2$.\n",
    "        - Penalizes the difference between the predicted confidence $\\color{Teal}C_i$ and the ground truth $\\color{Teal}\\hat{C}_i$, which is the IoU of the responsible predictor.\n",
    "\n",
    "    $$ + \\lambda_{\\text{noobj}} \\sum_{i=0}^{S^2} \\sum_{j=0}^{B}  \\text{𝟙}_{i j}^{\\text{noobj}}  (C_i - \\hat{C}_i)^2  $$\n",
    "    - *For cells without an object ($\\color{Teal}\\text{𝟙}_{i j}^{\\text{noobj}}$):* The term $\\color{Teal}(C_i - \\hat{C}_i)^2$ is also used here however the target confidence $\\color{Teal}\\hat{C}_i$ = 0.\n",
    "        - Since most of the cells in an image do not contain an object, this part of the loss dominates. To counteract this imbalance, the authors introduced $\\color{Teal}\\lambda_{\\text{noobj}}$ hyperparameter. \n",
    "            - The paper set $\\color{Teal}\\lambda_{\\text{noobj}}$ = 0.5.\n",
    "            - This down-weights the confidence loss for cells that are not supposed to detect an object. Which prevents the model from becoming overly confident in predicting background.\n",
    "\n",
    "\n",
    "3. <strong style=\"color: Lime;\">Classification Loss:</strong> What is the object? The last line.\n",
    "\n",
    "    $$ + \\sum_{i=0}^{S^2}  \\text{𝟙}_{i}^{\\text{obj}}  \\sum_{c \\in classes} (p_i(c) - \\hat{p}_i(c))^2 $$\n",
    "\n",
    "    - This measure how well the model predicts the correct class for the detected object.\n",
    "\n",
    "    - *Class Probabilities ($\\color{Lime}\\text{p}(\\text{c})$):*\n",
    "        - For each grid cell that contains an object $\\color{Lime}\\text{𝟙}_{i}^{\\text{obj}}$ the model predicts a probability distribution over all possible classes.\n",
    "\n",
    "    - *Sum-Squared Error for Classes:* The term $\\color{Lime}\\sum_{c \\in classes} (p_i(c) - \\hat{p}_i(c))^2$\n",
    "        - Calculates the squared error between the predicted class probabilities $\\color{Lime}(p_i(c))$ and the true one-hot encoded class probabilities $\\color{Lime} \\hat{p}_i(c)$.\n",
    "        - Note this loss is only calculated for the grid cell containing the object, not for each bounding box predictor.\n",
    "\n",
    "**The Goal:**  \n",
    "- **Improve bounding box coordinates**: By minimizing the localization loss.  \n",
    "- **Distinguish Object from background**: By learning to predict high confidence scores for boxes containing object and low scores for those without. \n",
    "- **Enhance bounding box shapes**: By encouraging the confidence score to reflect the IoU.\n",
    "- **Correctly Classify objects**: By minimizing the classification error."
   ]
  },
  {
   "cell_type": "code",
   "execution_count": null,
   "id": "df1cf626",
   "metadata": {},
   "outputs": [],
   "source": []
  }
 ],
 "metadata": {
  "kernelspec": {
   "display_name": "torch_env",
   "language": "python",
   "name": "python3"
  },
  "language_info": {
   "codemirror_mode": {
    "name": "ipython",
    "version": 3
   },
   "file_extension": ".py",
   "mimetype": "text/x-python",
   "name": "python",
   "nbconvert_exporter": "python",
   "pygments_lexer": "ipython3",
   "version": "3.11.11"
  }
 },
 "nbformat": 4,
 "nbformat_minor": 5
}
